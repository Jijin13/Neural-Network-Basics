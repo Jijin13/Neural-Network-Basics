{
 "cells": [
  {
   "cell_type": "code",
   "execution_count": 1,
   "id": "b1141994",
   "metadata": {},
   "outputs": [
    {
     "name": "stdout",
     "output_type": "stream",
     "text": [
      "0.585026652029182\n",
      "0.6819366650372384\n",
      "1.000695427661651\n",
      "1.1555973876473944\n",
      "Error_term: 0.2888993469118486\n"
     ]
    }
   ],
   "source": [
    "import math\n",
    "\n",
    "input_data = [(0.26, 1),\n",
    "             (0.20, 0),\n",
    "             (0.48, 1),\n",
    "             (0.30, 0)]\n",
    "\n",
    "def cross_entropy(input_data):\n",
    "    loss = 0\n",
    "    n = len(input_data)\n",
    "    for entry in input_data:\n",
    "        weighted_sum = entry[0]\n",
    "        y = entry[1]\n",
    "        loss += -(y*math.log10(weighted_sum) + (1-y)*math.log10(1-weighted_sum))\n",
    "        print(loss)\n",
    "    return loss/n \n",
    "\n",
    "error_term = cross_entropy(input_data)\n",
    "print(\"Error_term:\",error_term)\n",
    "        "
   ]
  },
  {
   "cell_type": "code",
   "execution_count": null,
   "id": "a215ba34",
   "metadata": {},
   "outputs": [],
   "source": []
  }
 ],
 "metadata": {
  "kernelspec": {
   "display_name": "Python 3",
   "language": "python",
   "name": "python3"
  },
  "language_info": {
   "codemirror_mode": {
    "name": "ipython",
    "version": 3
   },
   "file_extension": ".py",
   "mimetype": "text/x-python",
   "name": "python",
   "nbconvert_exporter": "python",
   "pygments_lexer": "ipython3",
   "version": "3.8.8"
  }
 },
 "nbformat": 4,
 "nbformat_minor": 5
}
